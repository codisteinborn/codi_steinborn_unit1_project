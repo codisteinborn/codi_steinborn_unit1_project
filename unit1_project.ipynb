{
 "cells": [
  {
   "cell_type": "markdown",
   "metadata": {},
   "source": [
    "<img src=\"http://imgur.com/1ZcRyrc.png\" style=\"float: left; margin: 20px; height: 55px\">\n",
    "\n",
    "# Project 1: Python Coding Exercises\n",
    "\n",
    "_Authors:  Joseph Nelson (DC)_\n",
    "\n",
    "---"
   ]
  },
  {
   "cell_type": "markdown",
   "metadata": {},
   "source": [
    "The following code challenges are drawn from common exercises used in technical interviews. This project is more about turning ideas into Python code than it is about developing algorithms, so we have provided \"pseudocode\" for the more challenging problems."
   ]
  },
  {
   "cell_type": "markdown",
   "metadata": {},
   "source": [
    "### Challenge 1: Largest Palindrome\n",
    "A palindromic number reads the same both ways. For example, 1234321 is a palindrome. The largest palindrome made from the product of two two-digit numbers is 9009 = 91 × 99. Find the largest palindrome made from the product of two three-digit numbers.\n",
    "\n",
    "Suggested algorithm:\n",
    "\n",
    "```\n",
    "- Initialize a variable `result` to 0.\n",
    "- For each number A 100 through 999:\n",
    "    - For each number B 100 through 999:\n",
    "        - Multiply A and B.\n",
    "        - Turn that product into a string (use `str` as a function).\n",
    "        - Reverse the string (use `my_string[::-1]`).\n",
    "        - If the string and its reverse are the same and the product is\n",
    "        greater than `result`,  set `result` to that new value.\n",
    "```"
   ]
  },
  {
   "cell_type": "code",
   "execution_count": 63,
   "metadata": {},
   "outputs": [
    {
     "name": "stdout",
     "output_type": "stream",
     "text": [
      "906609\n"
     ]
    }
   ],
   "source": [
    "result = 0 #placeholder to hold result\n",
    "#Go through 100-999 first time\n",
    "for a in range(100,999): \n",
    "    #Go through 100-999 again\n",
    "    for b in range(100,999): \n",
    "        #create a string of the product of 'a' from first range and 'b' from second range\n",
    "        my_str = str(a * b) \n",
    "        #if string forward and backward are the same AND product is greater than current result value\n",
    "        if my_str[::-1] == my_str and int(my_str) > result: \n",
    "            #update result to new value\n",
    "            result = int(my_str) \n",
    "            \n",
    "print (result)          "
   ]
  },
  {
   "cell_type": "markdown",
   "metadata": {},
   "source": [
    "### Challenge 2: Summation of Primes\n",
    "The sum of the primes below 10 is 2 + 3 + 5 + 7 = 17. Find the sum of all the primes below 2,000.\n",
    "\n",
    "Suggested algorithm:\n",
    "\n",
    "```\n",
    "- Initialize an empty list of primes.\n",
    "\n",
    "- For every number A from 2 to 2,000:\n",
    "    - Set a variable `is_prime` to true.\n",
    "    - For every number B in our list of primes:\n",
    "        - If A divided by B gives no remainder, set `is_prime` to false.\n",
    "        - Optional: Use the command `break` to end the loop over primes at this point.\n",
    "    - If `is_prime` is still true, append A to our list of primes.\n",
    "    \n",
    "- Add up the primes.\n",
    "```"
   ]
  },
  {
   "cell_type": "code",
   "execution_count": 65,
   "metadata": {},
   "outputs": [
    {
     "name": "stdout",
     "output_type": "stream",
     "text": [
      "277050\n"
     ]
    }
   ],
   "source": [
    "primes = [] #placeholder for primes\n",
    "#Go through range to get numbers 2-2000\n",
    "for A in range(2,2001): \n",
    "    #set default to assume number is prime\n",
    "    is_prime = True \n",
    "    #Loop through numbers in our prime list\n",
    "    for B in primes: \n",
    "        #If number in range 2-2000 divided by B from our primes list does not have a remainder\n",
    "        if A % B == 0:\n",
    "            #Set is_prime variable to false\n",
    "            is_prime = False\n",
    "    #If is_prime variable is still true\n",
    "    if is_prime == True:\n",
    "        #append the number to our list of primes\n",
    "        primes.append(A)\n",
    "    #sum up list of primes\n",
    "    sum_of_primes = sum(primes)\n",
    "\n",
    "print(sum_of_primes)"
   ]
  },
  {
   "cell_type": "markdown",
   "metadata": {},
   "source": [
    "### Challenge 3: Multiples of 3 and 5\n",
    "If we list all of the natural numbers below 10 that are multiples of 3 or 5, we get 3, 5, 6, and 9. The sum of these multiples is 23. Find the sum of all the multiples of 3 and 5 below 1,000."
   ]
  },
  {
   "cell_type": "code",
   "execution_count": 68,
   "metadata": {},
   "outputs": [
    {
     "name": "stdout",
     "output_type": "stream",
     "text": [
      "233168\n"
     ]
    }
   ],
   "source": [
    "multiples = [] #placeholder for pultiples of 3 or 5\n",
    "#loop thorough numbers 1-1000\n",
    "for num in range(1,1000):\n",
    "    #if the number divided by 3 or 5 does not have any remainder\n",
    "    if num % 3 == 0 or num % 5 == 0:\n",
    "        #append this number to multiples list\n",
    "        multiples.append(num)\n",
    "    #sum up multiples list\n",
    "    sum_of_multiples = sum(multiples)\n",
    "\n",
    "print(sum_of_multiples)\n",
    "    "
   ]
  },
  {
   "cell_type": "markdown",
   "metadata": {},
   "source": [
    "### Challenge 4: String Compressor\n",
    "Write a function to perform basic string compression using the counts of repeated characters. (This is called run-length encoding.) For example, the string \"aabcccccaaa\" would become a2b1c5a3. If the “compressed” string would not become smaller than the original string, your method should return the original string. You can assume the string has only uppercase and lowercase letters (a–z). Specify whether your solution is case sensitive or case insensitive and what you would need to change to make it the other.\n",
    "\n",
    "Suggested algorithm:\n",
    "\n",
    "```\n",
    "- Initialize an empty string to hold the compressed version of the input string\n",
    "- Initialize an empty string to hold the character we are currently tallying up\n",
    "- Initialize a counter variable to 0\n",
    "\n",
    "- For each letter in the input string:\n",
    "    - If that letter matches the letter we are counting, increment the counter by 1\n",
    "    - Otherwise:\n",
    "        - If the counter value is greater than 0, add the letter we have been counting\n",
    "        and its count to our compressed string\n",
    "        - Update the letter we are counting\n",
    "        - Set the counter to 1\n",
    "\n",
    "- Append the last letter we were counting and its count to our compressed string\n",
    "```\n",
    "\n",
    "**Suggestion:** Test your function on a few sample inputs. Try to come up with \"edge cases\" that might make it fail (e.g. empty strings, strings with all the same character, strings containing non-alphabetic characters, etc.)"
   ]
  },
  {
   "cell_type": "code",
   "execution_count": 73,
   "metadata": {},
   "outputs": [
    {
     "name": "stdout",
     "output_type": "stream",
     "text": [
      "a2b1c5a3\n"
     ]
    }
   ],
   "source": [
    "def string_compressor(input_string): #this function is case sensitive\n",
    "    #placeholders for new compressed string, current character and counter\n",
    "    compressed_string = ''\n",
    "    current_character = ''\n",
    "    counter = 0\n",
    "    #loop through letters in the input string\n",
    "    for letter in input_string:\n",
    "        #if the letter in the input_string is the same as the one we are already counting\n",
    "        if letter == current_character:\n",
    "            #increase the counter variable by 1\n",
    "            counter += 1\n",
    "        #otherwise...\n",
    "        else:\n",
    "            #set the current character to the letter from the input_string\n",
    "            current_character = letter\n",
    "            #append the letter from the input_string to the compressed string\n",
    "            compressed_string += str(letter)\n",
    "            #set the counter to 1\n",
    "            counter = 1\n",
    "        #if the counter is more than 1\n",
    "        if counter > 1:\n",
    "            #remove the final character form the compressed string\n",
    "            compressed_string = compressed_string[:-1]\n",
    "        #if the counter is more than 0\n",
    "        if counter > 0:\n",
    "            #append the counter variable to the compressed string\n",
    "            compressed_string += str(counter)\n",
    "    #if the length of the compressed string is more than or equal to the length of the original string\n",
    "    if len(compressed_string) >= len(input_string):\n",
    "        #print the original string\n",
    "        print (input_string)\n",
    "    #otherwise...\n",
    "    else:\n",
    "        #print the new compressed string\n",
    "        print (compressed_string)\n",
    "    \n",
    "string_compressor('aabcccccaaa')"
   ]
  },
  {
   "cell_type": "code",
   "execution_count": 75,
   "metadata": {},
   "outputs": [
    {
     "name": "stdout",
     "output_type": "stream",
     "text": [
      "a2b1c5a3\n"
     ]
    }
   ],
   "source": [
    "def string_compressor2(input_string): #this function is case insensitive -- same as above, but setting current character to lowercase and appending lowercase letters to compressed string\n",
    "    compressed_string = ''\n",
    "    current_character = ''\n",
    "    counter = 0\n",
    "    for letter in input_string:\n",
    "        if letter.lower() == current_character:\n",
    "            counter += 1\n",
    "        else:\n",
    "            current_character = letter.lower()\n",
    "            compressed_string += str(letter.lower())\n",
    "            counter = 1\n",
    "        if counter > 1:\n",
    "            compressed_string = compressed_string[:-1]\n",
    "        if counter > 0:\n",
    "            compressed_string += str(counter)\n",
    "    if len(compressed_string) >= len(input_string):\n",
    "        print (input_string)\n",
    "    else:\n",
    "        print (compressed_string)\n",
    "string_compressor2('aabCcccCAaa')"
   ]
  },
  {
   "cell_type": "markdown",
   "metadata": {},
   "source": [
    "### Challenge 5: FizzBuzz\n",
    "Write a program that prints all of the numbers from 1 to 100. For multiples of 3, instead of the number, print \"Fizz;\" for multiples of 5, print \"Buzz.\" For numbers that are multiples of both 3 and 5, print \"FizzBuzz.\""
   ]
  },
  {
   "cell_type": "code",
   "execution_count": 74,
   "metadata": {},
   "outputs": [
    {
     "name": "stdout",
     "output_type": "stream",
     "text": [
      "[1, 2, 'Fizz', 4, 'Buzz', 'Fizz', 7, 8, 'Fizz', 'Buzz', 11, 'Fizz', 13, 14, 'FizzBuzz', 16, 17, 'Fizz', 19, 'Buzz', 'Fizz', 22, 23, 'Fizz', 'Buzz', 26, 'Fizz', 28, 29, 'FizzBuzz', 31, 32, 'Fizz', 34, 'Buzz', 'Fizz', 37, 38, 'Fizz', 'Buzz', 41, 'Fizz', 43, 44, 'FizzBuzz', 46, 47, 'Fizz', 49, 'Buzz', 'Fizz', 52, 53, 'Fizz', 'Buzz', 56, 'Fizz', 58, 59, 'FizzBuzz', 61, 62, 'Fizz', 64, 'Buzz', 'Fizz', 67, 68, 'Fizz', 'Buzz', 71, 'Fizz', 73, 74, 'FizzBuzz', 76, 77, 'Fizz', 79, 'Buzz', 'Fizz', 82, 83, 'Fizz', 'Buzz', 86, 'Fizz', 88, 89, 'FizzBuzz', 91, 92, 'Fizz', 94, 'Buzz', 'Fizz', 97, 98, 'Fizz', 'Buzz']\n"
     ]
    }
   ],
   "source": [
    "fizz_buzz = [] #placeholder for list\n",
    "#loop through numbers 1-100\n",
    "for num in range(1,101):\n",
    "    #if the number divided by 3 AND by 5 does not have a remainder\n",
    "    if num % 3 == 0 and num % 5 == 0:\n",
    "        #append 'FizzBuzz' to the list\n",
    "        fizz_buzz.append('FizzBuzz')\n",
    "    #else if the number divided by 3 does not have a remainder\n",
    "    elif num % 3 == 0:\n",
    "        #append 'Fizz' to the list\n",
    "        fizz_buzz.append('Fizz')\n",
    "    #else if the number divided by 5 does not have a remainder\n",
    "    elif num % 5 == 0:\n",
    "        #append 'Buzz' to the list\n",
    "        fizz_buzz.append('Buzz')\n",
    "    #otherwise...\n",
    "    else:\n",
    "        #append the number to the list\n",
    "        fizz_buzz.append(num)\n",
    "        \n",
    "print(fizz_buzz)"
   ]
  },
  {
   "cell_type": "code",
   "execution_count": null,
   "metadata": {},
   "outputs": [],
   "source": []
  }
 ],
 "metadata": {
  "anaconda-cloud": {},
  "kernelspec": {
   "display_name": "Python 3",
   "language": "python",
   "name": "python3"
  },
  "language_info": {
   "codemirror_mode": {
    "name": "ipython",
    "version": 3
   },
   "file_extension": ".py",
   "mimetype": "text/x-python",
   "name": "python",
   "nbconvert_exporter": "python",
   "pygments_lexer": "ipython3",
   "version": "3.7.1"
  }
 },
 "nbformat": 4,
 "nbformat_minor": 2
}
